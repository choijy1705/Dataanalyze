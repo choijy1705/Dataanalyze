{
 "cells": [
  {
   "cell_type": "code",
   "execution_count": null,
   "metadata": {},
   "outputs": [],
   "source": [
    "# 판다스 라이브러리를 불러옵니다. \n",
    "import pandas as pd"
   ]
  },
  {
   "cell_type": "code",
   "execution_count": null,
   "metadata": {},
   "outputs": [],
   "source": [
    "# 엑셀 파일을 불러오겠습니다.  \n",
    "# 현재 쥬피터노트북 파일 위치 기준으로(./) data 폴더 내의 babyNamesUS.csv 파일입니다. \n",
    "file = './data/babyNamesUS.csv'\n",
    "raw = pd.read_csv(file)"
   ]
  },
  {
   "cell_type": "code",
   "execution_count": null,
   "metadata": {},
   "outputs": [],
   "source": [
    "raw.head()"
   ]
  },
  {
   "cell_type": "code",
   "execution_count": null,
   "metadata": {},
   "outputs": [],
   "source": [
    "raw.info()"
   ]
  },
  {
   "cell_type": "markdown",
   "metadata": {},
   "source": [
    "## Q) 남자 여자 구분없이 사용되는 공통 이름은?  "
   ]
  },
  {
   "cell_type": "code",
   "execution_count": null,
   "metadata": {},
   "outputs": [],
   "source": [
    "# 남성, 여성별 등록된 이름 횟수를 정리하겠습니다. \n",
    "\n",
    "# 피벗 테이블을 이용해 이름/성별에 따른 등록 회수를 정리합니다. \n",
    "name_df = raw.pivot_table(index = 'Name', columns = 'Sex', values = 'Number', aggfunc='sum')\n",
    "\n",
    "# 비어있는 데이터에 0을 입력합니다. \n",
    "name_df = name_df.fillna(0)\n",
    "\n",
    "# 소수점 형태의 실수 형태로 되어있어, 이를 int 정수형으로 변경합니다. \n",
    "name_df = name_df.astype(int)\n",
    "name_df.head()"
   ]
  },
  {
   "cell_type": "markdown",
   "metadata": {},
   "source": [
    "- 남자/여자 비율 차이가 적을수록 --> 성별 구분 없는 이름! "
   ]
  },
  {
   "cell_type": "code",
   "execution_count": null,
   "metadata": {},
   "outputs": [],
   "source": [
    "## 남자/여자 이름 등록수 합계를 계산합니다. \n",
    "name_df['Sum'] = name_df['M'] + name_df['F']\n",
    "name_df.head()"
   ]
  },
  {
   "cell_type": "code",
   "execution_count": null,
   "metadata": {},
   "outputs": [],
   "source": [
    "# 남자/여자 등록 비율을 계산합니다. \n",
    "name_df['F_ratio'] = name_df['F'] / name_df['Sum']\n",
    "name_df['M_ratio'] = name_df['M'] / name_df['Sum']\n",
    "\n",
    "# 두 비율의 차이를 계산합니다. \n",
    "name_df['M_F_Gap'] = abs(name_df['F_ratio'] - name_df['M_ratio'])\n",
    "name_df.head()"
   ]
  },
  {
   "cell_type": "code",
   "execution_count": null,
   "metadata": {},
   "outputs": [],
   "source": [
    "# 이름이 가장 많이 사용된 수를 기준으로 내림차순으로 정렬합니다. \n",
    "name_df = name_df.sort_values(by = 'Sum', ascending=False)\n",
    "name_df.head(20)"
   ]
  },
  {
   "cell_type": "code",
   "execution_count": null,
   "metadata": {},
   "outputs": [],
   "source": [
    "# 남자/여자 사용비율의 차이가 0.1보다 작은 경우를 찾습니다. \n",
    "cond = name_df['M_F_Gap'] < 0.1\n",
    "name_df[cond].head(10)"
   ]
  },
  {
   "cell_type": "code",
   "execution_count": null,
   "metadata": {},
   "outputs": [],
   "source": [
    "### 남자/여자 구분없이 가장 많이 사용되는 이름은 아래와 같습니다. \n",
    "name_df[cond].head(10).index"
   ]
  },
  {
   "cell_type": "markdown",
   "metadata": {},
   "source": [
    "### James, Mary 가 가장 대표적인 미국 이름???   "
   ]
  },
  {
   "cell_type": "markdown",
   "metadata": {},
   "source": [
    "## Q) 가장 대표적인 미국이름은??  \n",
    "\n",
    "- 전 기간 합계\n",
    "- 최근 트렌드에 따른"
   ]
  },
  {
   "cell_type": "code",
   "execution_count": null,
   "metadata": {},
   "outputs": [],
   "source": [
    "raw.head()"
   ]
  },
  {
   "cell_type": "code",
   "execution_count": null,
   "metadata": {},
   "outputs": [],
   "source": [
    "# unique() 를 통해, 기간에 들어가는 값들을 살펴봅니다. \n",
    "raw['YearOfBirth'].unique()"
   ]
  },
  {
   "cell_type": "markdown",
   "metadata": {},
   "source": [
    "#### 세대 기준으로 그룹 만들기\n",
    "한 세대 나누는 기준 30년 :  2020년 기준 30년씩 구분\n",
    "- 1930년대 이전 \n",
    "- 1960년대 이전 \n",
    "- 1990년대 이전 \n",
    "- 2020년 이전"
   ]
  },
  {
   "cell_type": "code",
   "execution_count": null,
   "metadata": {},
   "outputs": [],
   "source": [
    "# 출생연도 시리즈에서 순서대로 해당하는 세대 그룹명에 매칭하고 그 결과를 리스트에 저장합니다. \n",
    "year_class_list = [ ]\n",
    "\n",
    "for year in raw['YearOfBirth']:\n",
    "    if year <= 1930: \n",
    "        year_class = '1930년이전'\n",
    "    elif year<= 1960: \n",
    "        year_class = '1960년이전'\n",
    "    elif year <=1990:\n",
    "        year_class = '1990년이전'\n",
    "    else:\n",
    "        year_class = '2020년이전'\n",
    "    year_class_list.append(year_class)"
   ]
  },
  {
   "cell_type": "code",
   "execution_count": null,
   "metadata": {},
   "outputs": [],
   "source": [
    "# 세대 그룹명이 저장된 리스트를 컬럼으로 추가합니다. \n",
    "raw['year_class'] = year_class_list\n",
    "raw.head()"
   ]
  },
  {
   "cell_type": "code",
   "execution_count": null,
   "metadata": {},
   "outputs": [],
   "source": [
    "# pivot_table()을 활용하여 이름/성별, 세대별 이름 등록수 합계 표를 구합니다. \n",
    "name_period = raw.pivot_table(index = ['Name', 'Sex'], columns = 'year_class', values = 'Number', aggfunc='sum')\n",
    "name_period = name_period.fillna(0)\n",
    "name_period = name_period.astype(int)\n",
    "name_period.head()"
   ]
  },
  {
   "cell_type": "markdown",
   "metadata": {},
   "source": [
    "#### 전체 컬럼 합계 계산하기\n",
    "- 모든 컬럼을 하나씩 더하기 : df['컬럼1'] + df['컬럼2'] + ... + df['컬럼n']  \n",
    "- sum() 활용하기: df.`sum(axis = 1)`\n",
    "    - 참고) df.sum() 을 활용하면, 기본값으로 axis = 0 으로 지정되며, 컬럼별 합계가 아닌 row 별 합계가 계산됩니다. "
   ]
  },
  {
   "cell_type": "code",
   "execution_count": null,
   "metadata": {},
   "outputs": [],
   "source": [
    "# sum(axis = 1)을 활용하여 컬럼별 합계를 추가합니다. \n",
    "name_period['sum'] = name_period.sum(axis = 1)\n",
    "name_period.head()"
   ]
  },
  {
   "cell_type": "code",
   "execution_count": null,
   "metadata": {},
   "outputs": [],
   "source": [
    "# 모든 컬럼을 컬럼별 합계로 나누어, 세대별 등록 비율을 계산합니다. \n",
    "# 계산된 값은 기존컬럼 뒤에 \"비율\" 이름을 추가한 신규컬럼에 저장합니다. \n",
    "for col in name_period.columns:\n",
    "    col_new = col+\"비율\"\n",
    "    name_period[col_new] = name_period[col] / name_period['sum']\n",
    "    \n",
    "name_period.head()"
   ]
  },
  {
   "cell_type": "code",
   "execution_count": null,
   "metadata": {},
   "outputs": [],
   "source": [
    "# 이름 사용수 합계, 2020년 이전 비율, 1990년이전 비율 기준으로 내림차순하여 정리합니다. \n",
    "name_period = name_period.sort_values(by = ['sum', '2020년이전비율','1990년이전비율'], ascending=False)\n",
    "name_period"
   ]
  },
  {
   "cell_type": "code",
   "execution_count": null,
   "metadata": {},
   "outputs": [],
   "source": [
    "# 인덱스가 여러 레벨로 되어있을 경우, 인덱스를 활용해 컨트롤 하는 것은 복잡하기때문에 \n",
    "# reset_index()를 활용하여 인덱스로 설정된 이름과 성별을 컬럼으로 변경합니다. \n",
    "\n",
    "name_period = name_period.reset_index()"
   ]
  },
  {
   "cell_type": "code",
   "execution_count": null,
   "metadata": {},
   "outputs": [],
   "source": [
    "# 남자 이름만 선택해서 살펴봅니다. \n",
    "cond = name_period['Sex'] =='M'\n",
    "name_period[cond].head(10)\n",
    "# 상위로 사용되는 James, Robert, John의 경우 1960년대 사용비율이 40% 이상으로, 요즘 트렌드(?)에는 맞지 않는 이름인 것 같네요"
   ]
  },
  {
   "cell_type": "code",
   "execution_count": null,
   "metadata": {},
   "outputs": [],
   "source": [
    "# 이번에는 여자이름을 살펴보겠습니다. \n",
    "cond = name_period['Sex'] =='F'\n",
    "name_period[cond].head(10)\n",
    "## Mary는 60년대 이전이 50% 이상 사용되었습니다. Mary 라고 하면,, 할머니를 생각하지 않을까요???\n",
    "## 순위 상위권에서 보면 Jessica, Sarah, Ashley 가 눈에 띄네요, 2020년 이전 사용 비율이 높습니다. "
   ]
  },
  {
   "cell_type": "markdown",
   "metadata": {},
   "source": []
  },
  {
   "cell_type": "code",
   "execution_count": null,
   "metadata": {},
   "outputs": [],
   "source": [
    "# 2020년 이전 비율이 30% 보다 큰 경우에 해당하는 이름만 살펴볼까요?\n",
    "## 남자의 경우에는 아래와 같습니다. \n",
    "\n",
    "cond_age = name_period['2020년이전비율'] > 0.3\n",
    "cond_sex = name_period['Sex'] == 'M'\n",
    "cond = cond_age & cond_sex\n",
    "name_period[cond].head(5)"
   ]
  },
  {
   "cell_type": "code",
   "execution_count": null,
   "metadata": {},
   "outputs": [],
   "source": [
    "# 2020년 이전 비율이 30% 보다 큰 경우에 해당하는 이름만 살펴볼까요?\n",
    "## 여자의 경우에는 아래와 같습니다. \n",
    "\n",
    "cond_age = name_period['2020년이전비율'] > 0.3\n",
    "cond_sex = name_period['Sex'] == 'F'\n",
    "cond = cond_age & cond_sex\n",
    "name_period[cond].head(5)"
   ]
  }
 ],
 "metadata": {
  "kernelspec": {
   "display_name": "Python 3",
   "language": "python",
   "name": "python3"
  },
  "language_info": {
   "codemirror_mode": {
    "name": "ipython",
    "version": 3
   },
   "file_extension": ".py",
   "mimetype": "text/x-python",
   "name": "python",
   "nbconvert_exporter": "python",
   "pygments_lexer": "ipython3",
   "version": "3.7.4"
  }
 },
 "nbformat": 4,
 "nbformat_minor": 2
}
