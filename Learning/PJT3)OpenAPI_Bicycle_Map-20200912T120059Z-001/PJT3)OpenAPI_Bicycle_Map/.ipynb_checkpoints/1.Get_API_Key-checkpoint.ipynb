{
 "cells": [
  {
   "cell_type": "markdown",
   "metadata": {},
   "source": [
    "## 공공데이터 API 키 받기"
   ]
  },
  {
   "cell_type": "markdown",
   "metadata": {},
   "source": [
    "### 1. 공공데이터 포탈 가입하기\n",
    "    http://data.seoul.go.kr\n",
    "    \n",
    "### 2. 원하는 데이터 셋 찾기\n",
    "    서울특별시 공공자전거 실시간 대여정보\n",
    "    http://data.seoul.go.kr/dataList/OA-15493/A/1/datasetView.do\n",
    "    \n",
    "### 3. 인증키 신청하기\n",
    "![screenshot](./image/API_page.png)\n",
    "\n",
    "### 4. 가입신청서 작성\n",
    "![screenshop](./image/Request_Api.png)\n",
    "    \n",
    "    \n",
    "#### 5. 인증키 관리 : 나의화면 --> 인증키관리\n",
    "![screenshot](./image/mypage.png)\n",
    "\n",
    "#### 6. 인증키 복사하기\n",
    "![screenshot](./image/apikey.png)"
   ]
  }
 ],
 "metadata": {
  "kernelspec": {
   "display_name": "Python 3",
   "language": "python",
   "name": "python3"
  },
  "language_info": {
   "codemirror_mode": {
    "name": "ipython",
    "version": 3
   },
   "file_extension": ".py",
   "mimetype": "text/x-python",
   "name": "python",
   "nbconvert_exporter": "python",
   "pygments_lexer": "ipython3",
   "version": "3.7.4"
  }
 },
 "nbformat": 4,
 "nbformat_minor": 2
}
